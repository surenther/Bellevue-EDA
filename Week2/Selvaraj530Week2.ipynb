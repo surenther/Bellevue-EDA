{
 "cells": [
  {
   "cell_type": "markdown",
   "metadata": {},
   "source": [
    "#### Task 1: Display the text"
   ]
  },
  {
   "cell_type": "code",
   "execution_count": 31,
   "metadata": {},
   "outputs": [
    {
     "name": "stdout",
     "output_type": "stream",
     "text": [
      "Hello World! My name is Surenther\n"
     ]
    }
   ],
   "source": [
    "name = 'Surenther'\n",
    "print(f\"Hello World! My name is {name}\")"
   ]
  },
  {
   "cell_type": "markdown",
   "metadata": {},
   "source": [
    "#### Task 2: Add two numbers together"
   ]
  },
  {
   "cell_type": "code",
   "execution_count": 32,
   "metadata": {},
   "outputs": [
    {
     "name": "stdout",
     "output_type": "stream",
     "text": [
      "The sum of 10 and 20 is 30\n"
     ]
    }
   ],
   "source": [
    "num1 = 10\n",
    "num2 = 20\n",
    "addition = num1 + num2\n",
    "print(f\"The sum of {num1} and {num2} is {addition}\")"
   ]
  },
  {
   "cell_type": "markdown",
   "metadata": {},
   "source": [
    "#### Task 3: Subtract a number from another number"
   ]
  },
  {
   "cell_type": "code",
   "execution_count": 33,
   "metadata": {},
   "outputs": [
    {
     "name": "stdout",
     "output_type": "stream",
     "text": [
      "The result of subtracting 15 from 50 is 35\n"
     ]
    }
   ],
   "source": [
    "num3 = 50\n",
    "num4 = 15\n",
    "subtraction = num3 - num4\n",
    "print(f\"The result of subtracting {num4} from {num3} is {subtraction}\")"
   ]
  },
  {
   "cell_type": "markdown",
   "metadata": {},
   "source": [
    "#### Task 4: Multiply two numbers"
   ]
  },
  {
   "cell_type": "code",
   "execution_count": 34,
   "metadata": {},
   "outputs": [
    {
     "name": "stdout",
     "output_type": "stream",
     "text": [
      "The product of 8 and 6 is 48\n"
     ]
    }
   ],
   "source": [
    "num5 = 8\n",
    "num6 = 6\n",
    "multiplication = num5 * num6\n",
    "print(f\"The product of {num5} and {num6} is {multiplication}\")"
   ]
  },
  {
   "cell_type": "markdown",
   "metadata": {},
   "source": [
    "#### Task 5:  Divide between two numbers"
   ]
  },
  {
   "cell_type": "code",
   "execution_count": 35,
   "metadata": {},
   "outputs": [
    {
     "name": "stdout",
     "output_type": "stream",
     "text": [
      "The result of dividing 40 by 5 is 8\n"
     ]
    }
   ],
   "source": [
    "num7 = 40\n",
    "num8 = 5\n",
    "division = int(num7 / num8)\n",
    "print(f\"The result of dividing {num7} by {num8} is {division}\")"
   ]
  },
  {
   "cell_type": "markdown",
   "metadata": {},
   "source": [
    "#### Task 6: Concatenate two strings together"
   ]
  },
  {
   "cell_type": "code",
   "execution_count": 36,
   "metadata": {},
   "outputs": [
    {
     "name": "stdout",
     "output_type": "stream",
     "text": [
      "Concatenated string: Hello World\n"
     ]
    }
   ],
   "source": [
    "string1 = \"Hello\"\n",
    "string2 = \"World\"\n",
    "concatenation = string1 + \" \" + string2\n",
    "print(f\"Concatenated string: {concatenation}\")"
   ]
  },
  {
   "cell_type": "markdown",
   "metadata": {},
   "source": [
    "#### Task 7: Create a list of 4 items"
   ]
  },
  {
   "cell_type": "code",
   "execution_count": 37,
   "metadata": {},
   "outputs": [
    {
     "name": "stdout",
     "output_type": "stream",
     "text": [
      "My initial list: [1, 'apple', 3.14, True]\n"
     ]
    }
   ],
   "source": [
    "my_list = [1, \"apple\", 3.14, True]\n",
    "print(f\"My initial list: {my_list}\")"
   ]
  },
  {
   "cell_type": "markdown",
   "metadata": {},
   "source": [
    "#### Task 8: Append an item to your list"
   ]
  },
  {
   "cell_type": "code",
   "execution_count": 38,
   "metadata": {},
   "outputs": [
    {
     "name": "stdout",
     "output_type": "stream",
     "text": [
      "My updated list after appending: [1, 'apple', 3.14, True, 'new item']\n"
     ]
    }
   ],
   "source": [
    "my_list.append(\"new item\")\n",
    "print(f\"My updated list after appending: {my_list}\")"
   ]
  },
  {
   "cell_type": "markdown",
   "metadata": {},
   "source": [
    "#### Create a tuple with 4 items"
   ]
  },
  {
   "cell_type": "code",
   "execution_count": 39,
   "metadata": {},
   "outputs": [
    {
     "name": "stdout",
     "output_type": "stream",
     "text": [
      "My tuple: (10, 'banana', 2.71, False)\n"
     ]
    }
   ],
   "source": [
    "my_tuple = (10, \"banana\", 2.71, False)\n",
    "print(f\"My tuple: {my_tuple}\")"
   ]
  }
 ],
 "metadata": {
  "kernelspec": {
   "display_name": ".venv",
   "language": "python",
   "name": "python3"
  },
  "language_info": {
   "codemirror_mode": {
    "name": "ipython",
    "version": 3
   },
   "file_extension": ".py",
   "mimetype": "text/x-python",
   "name": "python",
   "nbconvert_exporter": "python",
   "pygments_lexer": "ipython3",
   "version": "3.10.12"
  }
 },
 "nbformat": 4,
 "nbformat_minor": 2
}

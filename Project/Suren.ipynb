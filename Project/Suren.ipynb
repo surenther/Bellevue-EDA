{
 "cells": [
  {
   "cell_type": "markdown",
   "metadata": {},
   "source": [
    "### Import required Libraries"
   ]
  },
  {
   "cell_type": "code",
   "execution_count": 1,
   "metadata": {},
   "outputs": [],
   "source": [
    "import pandas as pd"
   ]
  },
  {
   "cell_type": "markdown",
   "metadata": {},
   "source": [
    "### Read data file"
   ]
  },
  {
   "cell_type": "code",
   "execution_count": 2,
   "metadata": {},
   "outputs": [
    {
     "name": "stdout",
     "output_type": "stream",
     "text": [
      "   Country  Age  Gender  Cholesterol_Level  Blood_Pressure Smoking_History  \\\n",
      "0  Germany   39    Male         210.091036      173.301650           Never   \n",
      "1    Egypt   88    Male         163.998730      137.381678          Former   \n",
      "2    Spain   60  Female         263.502590      139.737677          Former   \n",
      "3   Canada   25  Female         292.003927       85.992807          Former   \n",
      "4   France   54  Female         267.736563      119.882856          Former   \n",
      "\n",
      "   Alcohol_Consumption Physical_Activity Obesity Diabetes  ...  \\\n",
      "0             0.531933            Active      No       No  ...   \n",
      "1             5.626668         Sedentary     Yes      Yes  ...   \n",
      "2             0.928015            Active      No      Yes  ...   \n",
      "3             7.374519            Active      No      Yes  ...   \n",
      "4             4.317845         Sedentary     Yes       No  ...   \n",
      "\n",
      "  LDL_Cholesterol  Triglycerides Heart_Disease_Risk Medication_Adherence  \\\n",
      "0       68.333573     165.060897             Medium                   No   \n",
      "1       98.194015     452.124651             Medium                   No   \n",
      "2      118.767677     171.432620                Low                   No   \n",
      "3      190.190597     329.553258             Medium                   No   \n",
      "4      188.209372     449.953074               High                  Yes   \n",
      "\n",
      "  Urbanization_Level Air_Pollution_Exposure Access_To_Healthcare  \\\n",
      "0              Urban              51.988416                 Good   \n",
      "1           Suburban              97.739896                 Good   \n",
      "2              Urban              60.352793                 Poor   \n",
      "3              Urban              14.397347                 Good   \n",
      "4              Rural              69.448684                 Good   \n",
      "\n",
      "   Education_Level Income_Level  Heart_Attack_Outcome  \n",
      "0         Tertiary          Low                  Died  \n",
      "1              NaN          Low                  Died  \n",
      "2         Tertiary          Low              Survived  \n",
      "3        Secondary         High              Survived  \n",
      "4              NaN          Low                  Died  \n",
      "\n",
      "[5 rows x 30 columns]\n"
     ]
    }
   ],
   "source": [
    "df = pd.read_csv ('heart_attack_predictions.csv')\n",
    "# Display first few rows\n",
    "print(df.head())"
   ]
  }
 ],
 "metadata": {
  "kernelspec": {
   "display_name": ".venv",
   "language": "python",
   "name": "python3"
  },
  "language_info": {
   "codemirror_mode": {
    "name": "ipython",
    "version": 3
   },
   "file_extension": ".py",
   "mimetype": "text/x-python",
   "name": "python",
   "nbconvert_exporter": "python",
   "pygments_lexer": "ipython3",
   "version": "3.10.12"
  }
 },
 "nbformat": 4,
 "nbformat_minor": 2
}

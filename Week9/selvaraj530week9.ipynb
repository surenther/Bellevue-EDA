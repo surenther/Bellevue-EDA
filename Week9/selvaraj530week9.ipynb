{
 "cells": [
  {
   "cell_type": "markdown",
   "metadata": {},
   "source": [
    "### Download Necessary Files"
   ]
  },
  {
   "cell_type": "code",
   "execution_count": 2,
   "metadata": {},
   "outputs": [],
   "source": [
    "from os.path import basename, exists\n",
    "\n",
    "\n",
    "def download(url):\n",
    "    filename = basename(url)\n",
    "    if not exists(filename):\n",
    "        from urllib.request import urlretrieve\n",
    "\n",
    "        local, _ = urlretrieve(url, filename)\n",
    "        print(\"Downloaded \" + local)\n",
    "\n",
    "download(\"https://github.com/AllenDowney/ThinkStats2/raw/master/code/nsfg.py\")\n",
    "download(\"https://github.com/AllenDowney/ThinkStats2/raw/master/code/2002FemPreg.dct\")\n",
    "download(\"https://github.com/AllenDowney/ThinkStats2/raw/master/code/2002FemPreg.dat.gz\")\n",
    "download(\"https://github.com/AllenDowney/ThinkStats2/raw/master/code/thinkstats2.py\")\n",
    "download(\"https://github.com/AllenDowney/ThinkStats2/raw/master/code/thinkplot.py\")"
   ]
  },
  {
   "cell_type": "code",
   "execution_count": 25,
   "metadata": {},
   "outputs": [],
   "source": [
    "import warnings\n",
    "warnings.filterwarnings('ignore')"
   ]
  },
  {
   "cell_type": "markdown",
   "metadata": {},
   "source": [
    "### Excercise 11.1"
   ]
  },
  {
   "cell_type": "markdown",
   "metadata": {},
   "source": [
    "#### Variables for Date of Birth Prediction"
   ]
  },
  {
   "cell_type": "code",
   "execution_count": 39,
   "metadata": {},
   "outputs": [],
   "source": [
    "# get Pregency data\n",
    "import nsfg\n",
    "\n",
    "#Get the sucessfull Preg\n",
    "preg = nsfg.ReadFemPreg()\n",
    "live = preg[preg.prglngth>30]"
   ]
  },
  {
   "cell_type": "code",
   "execution_count": 40,
   "metadata": {},
   "outputs": [
    {
     "name": "stdout",
     "output_type": "stream",
     "text": [
      "         Variable  R-squared\n",
      "4        moscurrp   1.000000\n",
      "92      cmkidied3   1.000000\n",
      "18        wksgest   0.810187\n",
      "79      parenend2   0.679366\n",
      "14       ageatend   0.453650\n",
      "91      alivenow3   0.375000\n",
      "51        weeksdk   0.304764\n",
      "112    whatmeth04   0.257449\n",
      "28      lobthwgt2   0.250000\n",
      "94       lastage3   0.250000\n",
      "74      cmkidied2   0.212656\n",
      "46        pnctrim   0.209709\n",
      "8        multbrth   0.175005\n",
      "9        cmotpreg   0.156342\n",
      "81      fedsolid2   0.129106\n",
      "209   totalwgt_lb   0.124457\n",
      "22    birthwgt_lb   0.119773\n",
      "134     whynouse3   0.110054\n",
      "149          lbw1   0.103725\n",
      "90      livehere3   0.100000\n",
      "19        mosgest   0.098279\n",
      "83    frsteatd_p2   0.071683\n",
      "78      legagree2   0.062500\n",
      "2       howpreg_n   0.058602\n",
      "89    matchfound3   0.055556\n",
      "30   birthwgt_lb3   0.055328\n",
      "77      wherenow2   0.054483\n",
      "71    matchfound2   0.051562\n",
      "31   birthwgt_oz3   0.040943\n",
      "6        pregend2   0.034786\n",
      "26   birthwgt_lb2   0.027763\n",
      "111    whatmeth03   0.026488\n",
      "87    ageqtnur_p2   0.022520\n",
      "177    prglngth_i   0.020865\n",
      "3       howpreg_p   0.020524\n",
      "84      frsteatd2   0.016305\n",
      "76       lastage2   0.014864\n",
      "10     prgoutcome   0.014231\n",
      "136       outcome   0.013472\n",
      "72      livehere2   0.011737\n",
      "40       trimestr   0.011715\n",
      "55       alivenow   0.011253\n",
      "29       babysex3   0.011006\n",
      "85      quitnurs2   0.010900\n",
      "82    frsteatd_n2   0.010198\n",
      "60       legagree   0.009995\n",
      "115      probbabe   0.009776\n",
      "131       whyprg1   0.008978\n",
      "116       cnfrmno   0.008796\n",
      "5        pregend1   0.008416\n"
     ]
    }
   ],
   "source": [
    "# Top 10 Rsquare value\n",
    "\n",
    "import pandas as pd\n",
    "import statsmodels.api as sm\n",
    "\n",
    "df = live\n",
    "target = \"prglngth\"\n",
    "predictors = [col for col in df.columns if col != target]  # Exclude target variable\n",
    "results = []\n",
    "\n",
    "for predictor in predictors:\n",
    "    try:\n",
    "        df_clean = df[[predictor, target]].dropna() # Drop NaN values\n",
    "        if df_clean[predictor].nunique() < 2:  # Skip if there's not enough variation\n",
    "                continue  \n",
    "        x = sm.add_constant(df_clean[predictor])  # Add intercept\n",
    "        y = df_clean[target]\n",
    "        model = sm.OLS(y, x).fit()\n",
    "        r2 = model.rsquared\n",
    "        results.append((predictor, r2))\n",
    "    except Exception as e:\n",
    "        print(f\"Skipping {predictor} due to error: {e}\")\n",
    "   \n",
    "# Convert to DataFrame and sort by R-squared\n",
    "r2_df = pd.DataFrame(results, columns=[\"Variable\", \"R-squared\"])\n",
    "r2_df = r2_df.sort_values(by=\"R-squared\", ascending=False).head(50)  \n",
    "\n",
    "print (r2_df)  "
   ]
  },
  {
   "cell_type": "markdown",
   "metadata": {},
   "source": [
    "Based on the above R-Squared value. I believe following can be right varaiable for predicting birth date\n",
    "\n",
    "wksgest\n",
    "weeksdk"
   ]
  },
  {
   "cell_type": "code",
   "execution_count": 55,
   "metadata": {},
   "outputs": [
    {
     "data": {
      "text/html": [
       "<table class=\"simpletable\">\n",
       "<caption>OLS Regression Results</caption>\n",
       "<tr>\n",
       "  <th>Dep. Variable:</th>        <td>prglngth</td>     <th>  R-squared:         </th> <td>   0.311</td>\n",
       "</tr>\n",
       "<tr>\n",
       "  <th>Model:</th>                   <td>OLS</td>       <th>  Adj. R-squared:    </th> <td>   0.036</td>\n",
       "</tr>\n",
       "<tr>\n",
       "  <th>Method:</th>             <td>Least Squares</td>  <th>  F-statistic:       </th> <td>   1.130</td>\n",
       "</tr>\n",
       "<tr>\n",
       "  <th>Date:</th>             <td>Sat, 08 Feb 2025</td> <th>  Prob (F-statistic):</th>  <td> 0.394</td> \n",
       "</tr>\n",
       "<tr>\n",
       "  <th>Time:</th>                 <td>17:38:57</td>     <th>  Log-Likelihood:    </th> <td> -16.183</td>\n",
       "</tr>\n",
       "<tr>\n",
       "  <th>No. Observations:</th>      <td>     8</td>      <th>  AIC:               </th> <td>   38.37</td>\n",
       "</tr>\n",
       "<tr>\n",
       "  <th>Df Residuals:</th>          <td>     5</td>      <th>  BIC:               </th> <td>   38.60</td>\n",
       "</tr>\n",
       "<tr>\n",
       "  <th>Df Model:</th>              <td>     2</td>      <th>                     </th>     <td> </td>   \n",
       "</tr>\n",
       "<tr>\n",
       "  <th>Covariance Type:</th>      <td>nonrobust</td>    <th>                     </th>     <td> </td>   \n",
       "</tr>\n",
       "</table>\n",
       "<table class=\"simpletable\">\n",
       "<tr>\n",
       "     <td></td>        <th>coef</th>     <th>std err</th>      <th>t</th>      <th>P>|t|</th>  <th>[0.025</th>    <th>0.975]</th>  \n",
       "</tr>\n",
       "<tr>\n",
       "  <th>const</th>   <td>   36.5093</td> <td>    2.105</td> <td>   17.346</td> <td> 0.000</td> <td>   31.099</td> <td>   41.920</td>\n",
       "</tr>\n",
       "<tr>\n",
       "  <th>wksgest</th> <td>   -0.0098</td> <td>    0.045</td> <td>   -0.218</td> <td> 0.836</td> <td>   -0.125</td> <td>    0.106</td>\n",
       "</tr>\n",
       "<tr>\n",
       "  <th>weeksdk</th> <td>    0.4133</td> <td>    0.283</td> <td>    1.460</td> <td> 0.204</td> <td>   -0.314</td> <td>    1.141</td>\n",
       "</tr>\n",
       "</table>\n",
       "<table class=\"simpletable\">\n",
       "<tr>\n",
       "  <th>Omnibus:</th>       <td> 0.987</td> <th>  Durbin-Watson:     </th> <td>   1.734</td>\n",
       "</tr>\n",
       "<tr>\n",
       "  <th>Prob(Omnibus):</th> <td> 0.611</td> <th>  Jarque-Bera (JB):  </th> <td>   0.595</td>\n",
       "</tr>\n",
       "<tr>\n",
       "  <th>Skew:</th>          <td>-0.144</td> <th>  Prob(JB):          </th> <td>   0.743</td>\n",
       "</tr>\n",
       "<tr>\n",
       "  <th>Kurtosis:</th>      <td> 1.696</td> <th>  Cond. No.          </th> <td>    128.</td>\n",
       "</tr>\n",
       "</table><br/><br/>Notes:<br/>[1] Standard Errors assume that the covariance matrix of the errors is correctly specified."
      ],
      "text/latex": [
       "\\begin{center}\n",
       "\\begin{tabular}{lclc}\n",
       "\\toprule\n",
       "\\textbf{Dep. Variable:}    &     prglngth     & \\textbf{  R-squared:         } &     0.311   \\\\\n",
       "\\textbf{Model:}            &       OLS        & \\textbf{  Adj. R-squared:    } &     0.036   \\\\\n",
       "\\textbf{Method:}           &  Least Squares   & \\textbf{  F-statistic:       } &     1.130   \\\\\n",
       "\\textbf{Date:}             & Sat, 08 Feb 2025 & \\textbf{  Prob (F-statistic):} &    0.394    \\\\\n",
       "\\textbf{Time:}             &     17:38:57     & \\textbf{  Log-Likelihood:    } &   -16.183   \\\\\n",
       "\\textbf{No. Observations:} &           8      & \\textbf{  AIC:               } &     38.37   \\\\\n",
       "\\textbf{Df Residuals:}     &           5      & \\textbf{  BIC:               } &     38.60   \\\\\n",
       "\\textbf{Df Model:}         &           2      & \\textbf{                     } &             \\\\\n",
       "\\textbf{Covariance Type:}  &    nonrobust     & \\textbf{                     } &             \\\\\n",
       "\\bottomrule\n",
       "\\end{tabular}\n",
       "\\begin{tabular}{lcccccc}\n",
       "                 & \\textbf{coef} & \\textbf{std err} & \\textbf{t} & \\textbf{P$> |$t$|$} & \\textbf{[0.025} & \\textbf{0.975]}  \\\\\n",
       "\\midrule\n",
       "\\textbf{const}   &      36.5093  &        2.105     &    17.346  &         0.000        &       31.099    &       41.920     \\\\\n",
       "\\textbf{wksgest} &      -0.0098  &        0.045     &    -0.218  &         0.836        &       -0.125    &        0.106     \\\\\n",
       "\\textbf{weeksdk} &       0.4133  &        0.283     &     1.460  &         0.204        &       -0.314    &        1.141     \\\\\n",
       "\\bottomrule\n",
       "\\end{tabular}\n",
       "\\begin{tabular}{lclc}\n",
       "\\textbf{Omnibus:}       &  0.987 & \\textbf{  Durbin-Watson:     } &    1.734  \\\\\n",
       "\\textbf{Prob(Omnibus):} &  0.611 & \\textbf{  Jarque-Bera (JB):  } &    0.595  \\\\\n",
       "\\textbf{Skew:}          & -0.144 & \\textbf{  Prob(JB):          } &    0.743  \\\\\n",
       "\\textbf{Kurtosis:}      &  1.696 & \\textbf{  Cond. No.          } &     128.  \\\\\n",
       "\\bottomrule\n",
       "\\end{tabular}\n",
       "%\\caption{OLS Regression Results}\n",
       "\\end{center}\n",
       "\n",
       "Notes: \\newline\n",
       " [1] Standard Errors assume that the covariance matrix of the errors is correctly specified."
      ],
      "text/plain": [
       "<class 'statsmodels.iolib.summary.Summary'>\n",
       "\"\"\"\n",
       "                            OLS Regression Results                            \n",
       "==============================================================================\n",
       "Dep. Variable:               prglngth   R-squared:                       0.311\n",
       "Model:                            OLS   Adj. R-squared:                  0.036\n",
       "Method:                 Least Squares   F-statistic:                     1.130\n",
       "Date:                Sat, 08 Feb 2025   Prob (F-statistic):              0.394\n",
       "Time:                        17:38:57   Log-Likelihood:                -16.183\n",
       "No. Observations:                   8   AIC:                             38.37\n",
       "Df Residuals:                       5   BIC:                             38.60\n",
       "Df Model:                           2                                         \n",
       "Covariance Type:            nonrobust                                         \n",
       "==============================================================================\n",
       "                 coef    std err          t      P>|t|      [0.025      0.975]\n",
       "------------------------------------------------------------------------------\n",
       "const         36.5093      2.105     17.346      0.000      31.099      41.920\n",
       "wksgest       -0.0098      0.045     -0.218      0.836      -0.125       0.106\n",
       "weeksdk        0.4133      0.283      1.460      0.204      -0.314       1.141\n",
       "==============================================================================\n",
       "Omnibus:                        0.987   Durbin-Watson:                   1.734\n",
       "Prob(Omnibus):                  0.611   Jarque-Bera (JB):                0.595\n",
       "Skew:                          -0.144   Prob(JB):                        0.743\n",
       "Kurtosis:                       1.696   Cond. No.                         128.\n",
       "==============================================================================\n",
       "\n",
       "Notes:\n",
       "[1] Standard Errors assume that the covariance matrix of the errors is correctly specified.\n",
       "\"\"\""
      ]
     },
     "execution_count": 55,
     "metadata": {},
     "output_type": "execute_result"
    }
   ],
   "source": [
    "import pandas as pd\n",
    "import statsmodels.api as sm\n",
    "\n",
    "predictors = ['wksgest','weeksdk']\n",
    "\n",
    "# Keep only columns present in the dataset\n",
    "predictors = [col for col in predictors if col in df.columns]\n",
    "\n",
    "# Drop missing values for selected columns\n",
    "df_clean = df.dropna(subset=[target] + predictors)\n",
    "    \n",
    "# Define independent (X) and dependent (y) variables\n",
    "X = df_clean[predictors]\n",
    "y = df_clean[target]\n",
    "\n",
    "# Add constant for the intercept\n",
    "X = sm.add_constant(X)\n",
    "\n",
    "# Fit the linear regression model\n",
    "model = sm.OLS(y, X).fit()\n",
    "\n",
    "model.summary()\n",
    "\n"
   ]
  },
  {
   "cell_type": "markdown",
   "metadata": {},
   "source": [
    "### Excercise 11.3"
   ]
  },
  {
   "cell_type": "markdown",
   "metadata": {},
   "source": [
    "#### No of Child Prediction"
   ]
  },
  {
   "cell_type": "code",
   "execution_count": 69,
   "metadata": {},
   "outputs": [
    {
     "name": "stdout",
     "output_type": "stream",
     "text": [
      "Optimization terminated successfully.\n",
      "         Current function value: 1.689698\n",
      "         Iterations 5\n",
      "                          Poisson Regression Results                          \n",
      "==============================================================================\n",
      "Dep. Variable:               numbabes   No. Observations:                 9011\n",
      "Model:                        Poisson   Df Residuals:                     9006\n",
      "Method:                           MLE   Df Model:                            4\n",
      "Date:                Sat, 08 Feb 2025   Pseudo R-squ.:                 0.03051\n",
      "Time:                        19:39:37   Log-Likelihood:                -15226.\n",
      "converged:                       True   LL-Null:                       -15705.\n",
      "Covariance Type:            nonrobust   LLR p-value:                3.583e-206\n",
      "==============================================================================\n",
      "                 coef    std err          z      P>|z|      [0.025      0.975]\n",
      "------------------------------------------------------------------------------\n",
      "const          1.1345      0.049     23.370      0.000       1.039       1.230\n",
      "age_r          0.0211      0.001     21.018      0.000       0.019       0.023\n",
      "race          -0.0799      0.011     -7.055      0.000      -0.102      -0.058\n",
      "educat        -0.0449      0.003    -15.412      0.000      -0.051      -0.039\n",
      "totincr       -0.0195      0.002    -10.464      0.000      -0.023      -0.016\n",
      "==============================================================================\n"
     ]
    }
   ],
   "source": [
    "import pandas as pd\n",
    "import statsmodels.api as sm\n",
    "import nsfg\n",
    "\n",
    "# Join preg and resp data\n",
    "live = live[live.prglngth>30]\n",
    "resp = nsfg.ReadFemResp()\n",
    "resp.index = resp.caseid\n",
    "join = live.join(resp, on='caseid', rsuffix='_r')\n",
    "\n",
    "# Select relevant predictors and drop missing values\n",
    "df = join[['numbabes', 'age_r', 'race', 'educat', 'totincr']].dropna()\n",
    "\n",
    "# Define dependent (target) and independent (predictor) variables\n",
    "X = df.drop(columns=['numbabes'])  # Predictors\n",
    "y = df['numbabes']  # Target (count variable)\n",
    "\n",
    "# Add constant for intercept\n",
    "X = sm.add_constant(X)\n",
    "\n",
    "# Fit Poisson regression model\n",
    "poisson_model = sm.Poisson(y, X).fit()\n",
    "\n",
    "# Print model summary\n",
    "print(poisson_model.summary())"
   ]
  },
  {
   "cell_type": "markdown",
   "metadata": {},
   "source": [
    "#### Predicting no of childrens"
   ]
  },
  {
   "cell_type": "code",
   "execution_count": 71,
   "metadata": {},
   "outputs": [
    {
     "name": "stdout",
     "output_type": "stream",
     "text": [
      "Predicted number of children: 2.23\n"
     ]
    }
   ],
   "source": [
    "# Create a DataFrame for the specific person\n",
    "person = pd.DataFrame({\n",
    "    'const': [1],        # Intercept\n",
    "    'age_r': [35],         \n",
    "    'race': [1],   \n",
    "    'educat': [16],  #16 years foe graduate\n",
    "    'totincr': [14]  # Code 14 if the income is 75k or more\n",
    "})\n",
    "\n",
    "# Ensure all other categorical dummy variables are set to 0\n",
    "for col in X.columns:\n",
    "    if col not in person.columns:\n",
    "        person[col] = 0\n",
    "\n",
    "# Predict expected number of children\n",
    "predicted_children = poisson_model.predict(person)\n",
    "print(f\"Predicted number of children: {predicted_children[0]:.2f}\")"
   ]
  },
  {
   "cell_type": "markdown",
   "metadata": {},
   "source": [
    "### Excercise 11.4"
   ]
  },
  {
   "cell_type": "markdown",
   "metadata": {},
   "source": [
    "#### Create a Model"
   ]
  },
  {
   "cell_type": "code",
   "execution_count": 78,
   "metadata": {},
   "outputs": [
    {
     "name": "stdout",
     "output_type": "stream",
     "text": [
      "Optimization terminated successfully.\n",
      "         Current function value: 1.100928\n",
      "         Iterations 8\n",
      "                          MNLogit Regression Results                          \n",
      "==============================================================================\n",
      "Dep. Variable:               rmarital   No. Observations:                 9011\n",
      "Model:                        MNLogit   Df Residuals:                     8986\n",
      "Method:                           MLE   Df Model:                           20\n",
      "Date:                Sat, 08 Feb 2025   Pseudo R-squ.:                  0.1563\n",
      "Time:                        19:59:44   Log-Likelihood:                -9920.5\n",
      "converged:                       True   LL-Null:                       -11758.\n",
      "Covariance Type:            nonrobust   LLR p-value:                     0.000\n",
      "==============================================================================\n",
      "rmarital=2       coef    std err          z      P>|z|      [0.025      0.975]\n",
      "------------------------------------------------------------------------------\n",
      "const          4.7360      0.302     15.658      0.000       4.143       5.329\n",
      "age_r         -0.0571      0.006     -9.892      0.000      -0.068      -0.046\n",
      "race          -0.4877      0.067     -7.326      0.000      -0.618      -0.357\n",
      "educat        -0.2046      0.018    -11.114      0.000      -0.241      -0.169\n",
      "totincr       -0.1366      0.011    -12.018      0.000      -0.159      -0.114\n",
      "------------------------------------------------------------------------------\n",
      "rmarital=3       coef    std err          z      P>|z|      [0.025      0.975]\n",
      "------------------------------------------------------------------------------\n",
      "const         -4.9396      0.965     -5.119      0.000      -6.831      -3.048\n",
      "age_r          0.1361      0.019      7.169      0.000       0.099       0.173\n",
      "race          -0.0691      0.167     -0.414      0.679      -0.396       0.258\n",
      "educat        -0.0930      0.047     -1.973      0.048      -0.185      -0.001\n",
      "totincr       -0.3350      0.031    -10.693      0.000      -0.396      -0.274\n",
      "------------------------------------------------------------------------------\n",
      "rmarital=4       coef    std err          z      P>|z|      [0.025      0.975]\n",
      "------------------------------------------------------------------------------\n",
      "const         -2.3823      0.323     -7.386      0.000      -3.014      -1.750\n",
      "age_r          0.0641      0.006      9.864      0.000       0.051       0.077\n",
      "race          -0.3079      0.068     -4.515      0.000      -0.442      -0.174\n",
      "educat         0.0687      0.017      4.141      0.000       0.036       0.101\n",
      "totincr       -0.2266      0.011    -19.720      0.000      -0.249      -0.204\n",
      "------------------------------------------------------------------------------\n",
      "rmarital=5       coef    std err          z      P>|z|      [0.025      0.975]\n",
      "------------------------------------------------------------------------------\n",
      "const          1.0736      0.369      2.912      0.004       0.351       1.796\n",
      "age_r          0.0091      0.007      1.277      0.202      -0.005       0.023\n",
      "race          -0.4990      0.078     -6.365      0.000      -0.653      -0.345\n",
      "educat        -0.0181      0.021     -0.860      0.390      -0.059       0.023\n",
      "totincr       -0.3037      0.014    -21.257      0.000      -0.332      -0.276\n",
      "------------------------------------------------------------------------------\n",
      "rmarital=6       coef    std err          z      P>|z|      [0.025      0.975]\n",
      "------------------------------------------------------------------------------\n",
      "const          7.5198      0.294     25.613      0.000       6.944       8.095\n",
      "age_r         -0.0902      0.006    -16.211      0.000      -0.101      -0.079\n",
      "race          -1.5625      0.065    -24.181      0.000      -1.689      -1.436\n",
      "educat        -0.0777      0.017     -4.499      0.000      -0.112      -0.044\n",
      "totincr       -0.3003      0.011    -26.468      0.000      -0.323      -0.278\n",
      "==============================================================================\n"
     ]
    }
   ],
   "source": [
    "import pandas as pd\n",
    "import statsmodels.api as sm\n",
    "\n",
    "# Select relevant predictors and drop missing values\n",
    "df = join[['rmarital', 'age_r', 'race', 'educat', 'totincr']].dropna()\n",
    "\n",
    "# Define dependent (target) and independent (predictor) variables\n",
    "X = df.drop(columns=['rmarital'])  # Predictors\n",
    "y = df['rmarital']  # Target (categorical variable)\n",
    "\n",
    "# Add constant for intercept\n",
    "X = sm.add_constant(X)\n",
    "\n",
    "# Fit multinomial logistic regression model\n",
    "mnlogit_model = sm.MNLogit(y, X).fit()\n",
    "\n",
    "# Print model summary\n",
    "print(mnlogit_model.summary())"
   ]
  },
  {
   "cell_type": "markdown",
   "metadata": {},
   "source": [
    "#### Getting Married Prediction"
   ]
  },
  {
   "cell_type": "code",
   "execution_count": 82,
   "metadata": {},
   "outputs": [
    {
     "name": "stdout",
     "output_type": "stream",
     "text": [
      "          0\n",
      "0  0.710814\n",
      "1  0.140136\n",
      "2  0.001094\n",
      "3  0.033169\n",
      "4  0.027406\n",
      "5  0.087381\n"
     ]
    }
   ],
   "source": [
    "# Create a DataFrame for the specific person\n",
    "person = pd.DataFrame({\n",
    "    'const': [1],        \n",
    "    'age_r': [25],         \n",
    "    'race': [2],   # 2 for White\n",
    "    'educat': [12], # 12 year for highschool\n",
    "    'totincr': [11]  # 11 code for 45k income\n",
    "})\n",
    "\n",
    "# Ensure all other categorical dummy variables are set to 0\n",
    "for col in X.columns:\n",
    "    if col not in person.columns:\n",
    "        person[col] = 0\n",
    "\n",
    "# Predict probabilities for each marital status category\n",
    "predicted_probs = mnlogit_model.predict(person)\n",
    "print(predicted_probs.T)"
   ]
  }
 ],
 "metadata": {
  "kernelspec": {
   "display_name": ".venv",
   "language": "python",
   "name": "python3"
  },
  "language_info": {
   "codemirror_mode": {
    "name": "ipython",
    "version": 3
   },
   "file_extension": ".py",
   "mimetype": "text/x-python",
   "name": "python",
   "nbconvert_exporter": "python",
   "pygments_lexer": "ipython3",
   "version": "3.10.12"
  }
 },
 "nbformat": 4,
 "nbformat_minor": 2
}
